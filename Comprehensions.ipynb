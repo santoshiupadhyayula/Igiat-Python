{
 "cells": [
  {
   "cell_type": "code",
   "execution_count": null,
   "metadata": {},
   "outputs": [],
   "source": [
    "# List Comprehension\n",
    "\n",
    "#Syntax: [expression for variable in list]\n",
    "# Printing power of 2 of given elements in list\n",
    "\n",
    "li=[2,3,4,5,6]\n",
    "l1=[i**2 for i in li]\n",
    "l1"
   ]
  },
  {
   "cell_type": "code",
   "execution_count": 3,
   "metadata": {},
   "outputs": [
    {
     "data": {
      "text/plain": [
       "[3, 5, 9]"
      ]
     },
     "execution_count": 3,
     "metadata": {},
     "output_type": "execute_result"
    }
   ],
   "source": [
    "#Syntax: [expression for var in list if<condition>]\n",
    "# Printing odd numbers from the given list\n",
    "\n",
    "li=[2,3,5,6,4,8,9]\n",
    "l2=[var for var in li if var%2!=0]\n",
    "l2\n"
   ]
  },
  {
   "cell_type": "code",
   "execution_count": 4,
   "metadata": {},
   "outputs": [
    {
     "data": {
      "text/plain": [
       "[1, 2, 3, 5, 6, 7]"
      ]
     },
     "execution_count": 4,
     "metadata": {},
     "output_type": "execute_result"
    }
   ],
   "source": [
    "#Syntax: [expression for var in list if<condition1> and if<condition2>]\n",
    "# Printing only digits from the given input\n",
    "\n",
    "li=[1,2,3,'ding','hello',5,6,7]\n",
    "l2=[i for i in li if type(i)==int]\n",
    "l2"
   ]
  },
  {
   "cell_type": "code",
   "execution_count": 5,
   "metadata": {},
   "outputs": [
    {
     "data": {
      "text/plain": [
       "[1, 2, 3, 5, 6, 7]"
      ]
     },
     "execution_count": 5,
     "metadata": {},
     "output_type": "execute_result"
    }
   ],
   "source": [
    "li=[1,2,3,'ding','hello',5,6,7]\n",
    "l2=[var for var in li if str(var).isdigit()]\n",
    "l2"
   ]
  },
  {
   "cell_type": "code",
   "execution_count": 6,
   "metadata": {},
   "outputs": [
    {
     "data": {
      "text/plain": [
       "['rama', 'ravi', 'raghu']"
      ]
     },
     "execution_count": 6,
     "metadata": {},
     "output_type": "execute_result"
    }
   ],
   "source": [
    "#To get data which starts with 'r'\n",
    "\n",
    "li=['rama','ravi','raghu','honey','sun']\n",
    "l2=[i for i in li if i[0]=='r']\n",
    "l2"
   ]
  },
  {
   "cell_type": "code",
   "execution_count": 8,
   "metadata": {},
   "outputs": [
    {
     "data": {
      "text/plain": [
       "['rama', 'ravi', 'raghu']"
      ]
     },
     "execution_count": 8,
     "metadata": {},
     "output_type": "execute_result"
    }
   ],
   "source": [
    "li=['rama','ravi','raghu','honey','sun']\n",
    "l2=[i for i in li if i.startswith('r')]\n",
    "l2"
   ]
  },
  {
   "cell_type": "code",
   "execution_count": 18,
   "metadata": {},
   "outputs": [
    {
     "name": "stdout",
     "output_type": "stream",
     "text": [
      "[10, 20, 30, 40, 50, 60, 70, 80, 90]\n",
      "sum is 450\n",
      "max value is 90\n",
      "min value is 10\n"
     ]
    }
   ],
   "source": [
    "#Syntax: [expression for var in list if<condition1> and <condition2>]\n",
    "#To print all the numbers divisible by 2 and 5 within range of (1,100)\n",
    "\n",
    "li=[i for i in range(1,100) if i%2==0 and  i%5==0]\n",
    "print(li)\n",
    "print(\"sum is\",sum(li))\n",
    "l2=max([i for i in range(1,100) if i%2==0 and  i%5==0])\n",
    "print(\"max value is\",l2)\n",
    "l3=min([i for i in range(1,100) if i%2==0 and  i%5==0])\n",
    "print(\"min value is\",l3)\n",
    "\n"
   ]
  },
  {
   "cell_type": "code",
   "execution_count": 20,
   "metadata": {},
   "outputs": [
    {
     "data": {
      "text/plain": [
       "[[1, 8, 45, 90]]"
      ]
     },
     "execution_count": 20,
     "metadata": {},
     "output_type": "execute_result"
    }
   ],
   "source": [
    "li=[90,1,45,8]\n",
    "l2=[sorted([i for i in li])]\n",
    "l2           "
   ]
  },
  {
   "cell_type": "code",
   "execution_count": 22,
   "metadata": {},
   "outputs": [
    {
     "data": {
      "text/plain": [
       "[[1, 4], [1, 5], [1, 6], [2, 4], [2, 5], [2, 6], [3, 4], [3, 5], [3, 6]]"
      ]
     },
     "execution_count": 22,
     "metadata": {},
     "output_type": "execute_result"
    }
   ],
   "source": [
    "# To print output in the format of [i,j]\n",
    "\n",
    "li1=[1,2,3]\n",
    "li2=[4,5,6]\n",
    "li3=[[a,b] for a in li1 for b in li2]\n",
    "li3\n"
   ]
  },
  {
   "cell_type": "code",
   "execution_count": 27,
   "metadata": {},
   "outputs": [
    {
     "data": {
      "text/plain": [
       "{1: 1, 2: 4, 3: 9, 4: 16, 5: 25}"
      ]
     },
     "execution_count": 27,
     "metadata": {},
     "output_type": "execute_result"
    }
   ],
   "source": [
    "## Dictionary Comprehension\n",
    "\n",
    "# To print output in the format of {1:1,2:4,3:9,4:16,5:25}\n",
    "li=[1,2,3,4,5]\n",
    "l2={i:(i**2) for i in li}\n",
    "l2"
   ]
  },
  {
   "cell_type": "code",
   "execution_count": 36,
   "metadata": {},
   "outputs": [
    {
     "data": {
      "text/plain": [
       "[('c', 0), ('l', 35), ('p', 20)]"
      ]
     },
     "execution_count": 36,
     "metadata": {},
     "output_type": "execute_result"
    }
   ],
   "source": [
    "li=[('a',75),('b',80),('c',0),('d',100),('l',35),('p',20)]\n",
    "l2=[var for var in li if var[1]<=35]\n",
    "l2"
   ]
  },
  {
   "cell_type": "code",
   "execution_count": 37,
   "metadata": {},
   "outputs": [
    {
     "data": {
      "text/plain": [
       "[['c', 0], ['l', 35], ['p', 20]]"
      ]
     },
     "execution_count": 37,
     "metadata": {},
     "output_type": "execute_result"
    }
   ],
   "source": [
    "li=[('a',75),('b',80),('c',0),('d',100),('l',35),('p',20)]\n",
    "l2=[[i,j] for i,j in li if j<=35]\n",
    "l2"
   ]
  },
  {
   "cell_type": "code",
   "execution_count": 39,
   "metadata": {},
   "outputs": [
    {
     "data": {
      "text/plain": [
       "{1, 2, 3, 4, 5, 6, 7}"
      ]
     },
     "execution_count": 39,
     "metadata": {},
     "output_type": "execute_result"
    }
   ],
   "source": [
    "#Sets Comprehension\n",
    "\n",
    "li={1,2,3,4,5,6,7}\n",
    "l2={i for i in li}\n",
    "l2"
   ]
  },
  {
   "cell_type": "code",
   "execution_count": 45,
   "metadata": {},
   "outputs": [
    {
     "name": "stdout",
     "output_type": "stream",
     "text": [
      "1\n",
      "2\n",
      "3\n",
      "4\n",
      "5\n",
      "6\n",
      "7\n"
     ]
    }
   ],
   "source": [
    "# Generator Comprehension\n",
    "\n",
    "li=[1,2,3,4,5,6,7]\n",
    "l2=(i for i in li)\n",
    "#print(next(l2))\n",
    "\n",
    "for i in l2:\n",
    "    print(i)"
   ]
  }
 ],
 "metadata": {
  "kernelspec": {
   "display_name": "Python 3",
   "language": "python",
   "name": "python3"
  },
  "language_info": {
   "codemirror_mode": {
    "name": "ipython",
    "version": 3
   },
   "file_extension": ".py",
   "mimetype": "text/x-python",
   "name": "python",
   "nbconvert_exporter": "python",
   "pygments_lexer": "ipython3",
   "version": "3.7.3"
  }
 },
 "nbformat": 4,
 "nbformat_minor": 2
}
